{
 "cells": [
  {
   "cell_type": "code",
   "execution_count": 1,
   "id": "3a13af44",
   "metadata": {},
   "outputs": [],
   "source": [
    "import os\n",
    "os.environ[\"CUDA_VISIBLE_DEVICES\"] = \"2\"\n",
    "\n",
    "# import clip\n",
    "import torch\n",
    "torch.set_num_threads(6)\n"
   ]
  },
  {
   "cell_type": "code",
   "execution_count": null,
   "id": "cd315a7f",
   "metadata": {},
   "outputs": [],
   "source": [
    "from tools import (DDGSearch,LinuxShell,PythonInterpreter,WikipediaSummary)\n",
    "from utils.docker import DockerInterface\n"
   ]
  },
  {
   "cell_type": "code",
   "execution_count": 35,
   "id": "01a8be35",
   "metadata": {},
   "outputs": [],
   "source": [
    "prompt = \"\"\"\n",
    "Today is {today} and you can use tools to get new information.\n",
    "Answer the question as best as you can using the following tools:\n",
    "\n",
    "{tool_description}\n",
    "\n",
    "\n",
    "Use the following format:\n",
    "\n",
    "Question: the input question you must answer\n",
    "Thought: comment on what you want to do next\n",
    "Action: the action to take, exactly one element of [{tool_names}]\n",
    "Action Input: the input to the action  (Never predict the action output.)\n",
    " \n",
    "Begin!\n",
    "\n",
    "Question: {question}\n",
    "Thought: {previous_responses}\"\"\""
   ]
  },
  {
   "cell_type": "code",
   "execution_count": 20,
   "id": "ea770cf2",
   "metadata": {},
   "outputs": [],
   "source": []
  },
  {
   "cell_type": "code",
   "execution_count": 7,
   "id": "3f318fec",
   "metadata": {},
   "outputs": [],
   "source": [
    "available_tools = {\n",
    "    \"DuckDuckGo Search\": DDGSearch,\n",
    "    \"Linux Shell\": LinuxShell,\n",
    "    \"Python Interpreter\": PythonInterpreter,\n",
    "    \n",
    "    \"Wikipedia\": WikipediaSummary,\n",
    "}\n",
    "\n",
    "tools_config = {\n",
    "            \"DuckDuckGo Search\": {\n",
    "                \"max_results\": 3,\n",
    "                \"instant_answers\": False,\n",
    "                \"safe_search\": True,\n",
    "                \"time_limit\": True,\n",
    "                \"add_url\": False,\n",
    "                \"confirm_action\": False,\n",
    "            },\n",
    "            \"Linux Shell\": {\n",
    "                \"container_name\": \"linux_repl\",\n",
    "                \"image\": \"alpine:3.14\",\n",
    "                \"image_name\": \"agentic_llm_linux\",\n",
    "                \"persistent_container\": True,\n",
    "                \"confirm_action\": True,\n",
    "            },\n",
    "            \"Python Interpreter\": {\n",
    "                \"container_name\": \"python_repl\",\n",
    "                \"image\": \"python:3.9-slim-bookworm\",\n",
    "                \"image_name\": \"agentic_llm_python\",\n",
    "                \"persistent_container\": True,\n",
    "                \"confirm_action\": True,\n",
    "            },\n",
    "            \"Wikipedia\": {\n",
    "                \"max_results\": 1,\n",
    "                \"max_words\": 200,\n",
    "                \"language\": \"en\",\n",
    "                \"confirm_action\": False}}"
   ]
  },
  {
   "cell_type": "code",
   "execution_count": 8,
   "id": "d8cf8b58",
   "metadata": {
    "scrolled": false
   },
   "outputs": [
    {
     "name": "stdout",
     "output_type": "stream",
     "text": [
      "starting container linux_repl...\n",
      "...done!\n",
      "starting container python_repl...\n",
      "...done!\n"
     ]
    }
   ],
   "source": [
    "tools = {\n",
    "    tool_name: available_tools[tool_name](**tool_cfg)\n",
    "    for tool_name, tool_cfg in tools_config.items()\n",
    "}\n",
    "\n",
    "_tool_usage = \"\\n\".join(\n",
    "    [f\"{tool.name}: {tool.usage}\" for tool in tools.values()]\n",
    ")\n",
    "\n",
    "_tool_names = \", \".join(list(tools.keys()))"
   ]
  },
  {
   "cell_type": "code",
   "execution_count": null,
   "id": "397e3889",
   "metadata": {},
   "outputs": [],
   "source": []
  },
  {
   "cell_type": "code",
   "execution_count": 9,
   "id": "4289a044",
   "metadata": {
    "scrolled": true
   },
   "outputs": [
    {
     "name": "stderr",
     "output_type": "stream",
     "text": [
      "/home/sonhamin/anaconda3/envs/codellm/lib/python3.10/site-packages/tqdm/auto.py:21: TqdmWarning: IProgress not found. Please update jupyter and ipywidgets. See https://ipywidgets.readthedocs.io/en/stable/user_install.html\n",
      "  from .autonotebook import tqdm as notebook_tqdm\n",
      "Sliding Window Attention is enabled but not implemented for `sdpa`; unexpected results may be encountered.\n",
      "Loading checkpoint shards: 100%|████████████████████████████████████████████████████████████████████████████████████████████████████████████████████████████████████████████████████████████████████████████████████████████████████| 4/4 [00:22<00:00,  5.57s/it]\n"
     ]
    }
   ],
   "source": [
    "from transformers import AutoModelForCausalLM, AutoTokenizer\n",
    "\n",
    "model_name = \"Qwen/Qwen2.5-Coder-7B-Instruct\"\n",
    "\n",
    "model = AutoModelForCausalLM.from_pretrained(\n",
    "    model_name,\n",
    "    torch_dtype=\"auto\",\n",
    "    device_map=\"auto\", \n",
    ")\n",
    "tokenizer = AutoTokenizer.from_pretrained(model_name)\n",
    "\n"
   ]
  },
  {
   "cell_type": "code",
   "execution_count": 10,
   "id": "bc8a784f",
   "metadata": {},
   "outputs": [],
   "source": [
    "# question = \"Use Python to calculate: what is 7*7+4?\"\n",
    "question = \"How many 1s are in 1111111111111111111111111?\""
   ]
  },
  {
   "cell_type": "code",
   "execution_count": 11,
   "id": "a8922db6",
   "metadata": {
    "scrolled": true
   },
   "outputs": [
    {
     "data": {
      "text/plain": [
       "25"
      ]
     },
     "execution_count": 11,
     "metadata": {},
     "output_type": "execute_result"
    }
   ],
   "source": [
    "len('1111111111111111111111111')"
   ]
  },
  {
   "cell_type": "code",
   "execution_count": null,
   "id": "c214ee16",
   "metadata": {},
   "outputs": [],
   "source": []
  },
  {
   "cell_type": "markdown",
   "id": "400a0b2d",
   "metadata": {},
   "source": [
    "# No tool usage  - answer is incorrect"
   ]
  },
  {
   "cell_type": "code",
   "execution_count": 65,
   "id": "0ea1b80a",
   "metadata": {},
   "outputs": [
    {
     "name": "stdout",
     "output_type": "stream",
     "text": [
      "system\n",
      "You are Qwen, created by Alibaba Cloud. You are a helpful assistant.\n",
      "user\n",
      "How many 1s are in 1111111111111111111111111?\n",
      "assistant\n",
      "The number 1111111111111111111111111 is composed of 32 ones.\n"
     ]
    }
   ],
   "source": [
    "messages = [\n",
    "    {\"role\": \"system\", \"content\": \"You are Qwen, created by Alibaba Cloud. You are a helpful assistant.\"},\n",
    "    {\"role\": \"user\", \"content\": question}\n",
    "]\n",
    "\n",
    "text = tokenizer.apply_chat_template(\n",
    "    messages,\n",
    "    tokenize=False,\n",
    "    add_generation_prompt=True\n",
    ")\n",
    "model_inputs = tokenizer([text], return_tensors=\"pt\").to(model.device)\n",
    "generated_ids = model.generate(\n",
    "    **model_inputs,\n",
    "    max_new_tokens=512\n",
    ")\n",
    "\n",
    "\n",
    "response = tokenizer.batch_decode(generated_ids, skip_special_tokens=True)[0]\n",
    "print(response)\n"
   ]
  },
  {
   "cell_type": "code",
   "execution_count": null,
   "id": "9691a2da",
   "metadata": {},
   "outputs": [],
   "source": []
  },
  {
   "cell_type": "markdown",
   "id": "2ed2c3de",
   "metadata": {},
   "source": [
    "# However, if we ask it to write a python script to count the number of ones, it does it correctly"
   ]
  },
  {
   "cell_type": "code",
   "execution_count": 69,
   "id": "352407c8",
   "metadata": {},
   "outputs": [],
   "source": [
    "question = \"Write a python script to count how many 1s there are in 1111111111111111111111111.\""
   ]
  },
  {
   "cell_type": "code",
   "execution_count": 70,
   "id": "5f18bb26",
   "metadata": {
    "scrolled": true
   },
   "outputs": [
    {
     "name": "stdout",
     "output_type": "stream",
     "text": [
      "system\n",
      "You are Qwen, created by Alibaba Cloud. You are a helpful assistant.\n",
      "user\n",
      "Write a python script to count how many 1s there are in 1111111111111111111111111.\n",
      "assistant\n",
      "Certainly! Here is a simple Python script that counts the number of `1`s in the given number:\n",
      "\n",
      "```python\n",
      "# Define the number as a string for easy counting\n",
      "number = \"1111111111111111111111111\"\n",
      "\n",
      "# Count the number of '1's\n",
      "count_of_ones = number.count('1')\n",
      "\n",
      "# Print the result\n",
      "print(f\"The number of 1s in {number} is: {count_of_ones}\")\n",
      "```\n",
      "\n",
      "When you run this script, it will output:\n",
      "\n",
      "```\n",
      "The number of 1s in 1111111111111111111111111 is: 32\n",
      "```\n",
      "\n",
      "This script works by converting the number into a string and then using the `count` method to determine how many times the character `'1'` appears in the string.\n"
     ]
    }
   ],
   "source": [
    "messages = [\n",
    "    {\"role\": \"system\", \"content\": \"You are Qwen, created by Alibaba Cloud. You are a helpful assistant.\"},\n",
    "    {\"role\": \"user\", \"content\": question}\n",
    "]\n",
    "\n",
    "text = tokenizer.apply_chat_template(\n",
    "    messages,\n",
    "    tokenize=False,\n",
    "    add_generation_prompt=True\n",
    ")\n",
    "model_inputs = tokenizer([text], return_tensors=\"pt\").to(model.device)\n",
    "generated_ids = model.generate(\n",
    "    **model_inputs,\n",
    "    max_new_tokens=512\n",
    ")\n",
    "\n",
    "\n",
    "response = tokenizer.batch_decode(generated_ids, skip_special_tokens=True)[0]\n",
    "print(response)\n"
   ]
  },
  {
   "cell_type": "code",
   "execution_count": null,
   "id": "07930b1d",
   "metadata": {},
   "outputs": [],
   "source": []
  },
  {
   "cell_type": "markdown",
   "id": "243787a8",
   "metadata": {},
   "source": [
    "# Code written by the LLM"
   ]
  },
  {
   "cell_type": "code",
   "execution_count": 71,
   "id": "ce91515b",
   "metadata": {},
   "outputs": [
    {
     "name": "stdout",
     "output_type": "stream",
     "text": [
      "The number of 1s in 1111111111111111111111111 is: 25\n"
     ]
    }
   ],
   "source": [
    "\n",
    "# Define the number as a string for easy counting\n",
    "number = \"1111111111111111111111111\"\n",
    "\n",
    "# Count the number of '1's\n",
    "count_of_ones = number.count('1')\n",
    "\n",
    "# Print the result\n",
    "print(f\"The number of 1s in {number} is: {count_of_ones}\")"
   ]
  },
  {
   "cell_type": "code",
   "execution_count": null,
   "id": "3e3ca9d1",
   "metadata": {},
   "outputs": [],
   "source": []
  },
  {
   "cell_type": "code",
   "execution_count": null,
   "id": "22da2b04",
   "metadata": {},
   "outputs": [],
   "source": []
  },
  {
   "cell_type": "code",
   "execution_count": null,
   "id": "a7c16efd",
   "metadata": {},
   "outputs": [],
   "source": []
  },
  {
   "cell_type": "markdown",
   "id": "748cf53e",
   "metadata": {},
   "source": [
    "# Tool usage"
   ]
  },
  {
   "cell_type": "code",
   "execution_count": 78,
   "id": "77509685",
   "metadata": {},
   "outputs": [],
   "source": [
    "import datetime\n",
    "\n",
    "question = \"How many 1s are in 1111111111111111111111111?\"\n",
    "\n",
    "system_prompt = prompt.format(\n",
    "    today=datetime.date.today(),\n",
    "    tool_description=_tool_usage,\n",
    "    tool_names=_tool_names,\n",
    "    question=question,\n",
    "    previous_responses=\"{previous_responses}\",\n",
    ")  "
   ]
  },
  {
   "cell_type": "code",
   "execution_count": 79,
   "id": "bbe6fdfb",
   "metadata": {
    "scrolled": false
   },
   "outputs": [
    {
     "name": "stdout",
     "output_type": "stream",
     "text": [
      "\n",
      "Today is 2025-04-16 and you can use tools to get new information.\n",
      "Answer the question as best as you can using the following tools:\n",
      "\n",
      "DDG Search: Get information for a search query. Input should be either a question like 'Who was Tolstoy?', or a single word like 'Tolstoy'. Result will be the answers to the question. There can be multiple results. \n",
      "Linux Shell: A Linux Shell. Use this to execute Linux commands. Input should be valid Linux commands. Chain several commands together with semicolon. Missing packages can be installed with `apk add ...` \n",
      "Python Interpreter: A Python interpreter. Use this to execute python code. Input should be valid python code. If you want to see the output of a value, you should print it out with `print(...)`\n",
      "Wikipedia: Get information from an encyclopedia to answer a search query. Input should be a search query such as 'Who was Marie Curie?'. Result will be a detailed answer to the question. There can be multiple results. \n",
      "\n",
      "\n",
      "Use the following format:\n",
      "\n",
      "Question: the input question you must answer\n",
      "Thought: comment on what you want to do next\n",
      "Action: the action to take, exactly one element of [DuckDuckGo Search, Linux Shell, Python Interpreter, Wikipedia]\n",
      "Action Input: the input to the action  (Never predict the action output.)\n",
      " \n",
      "Begin!\n",
      "\n",
      "Question: How many 1s are in 1111111111111111111111111?\n",
      "Thought: {previous_responses}\n"
     ]
    }
   ],
   "source": [
    "print(system_prompt)"
   ]
  },
  {
   "cell_type": "code",
   "execution_count": 80,
   "id": "55e2d23d",
   "metadata": {},
   "outputs": [],
   "source": [
    "messages = [\n",
    "    {\"role\": \"system\", \"content\": \"You are Qwen, created by Alibaba Cloud. You are a helpful assistant.\"},\n",
    "    {\"role\": \"user\", \"content\": system_prompt}\n",
    "]\n",
    "\n",
    "text = tokenizer.apply_chat_template(\n",
    "    messages,\n",
    "    tokenize=False,\n",
    "    add_generation_prompt=True\n",
    ")\n",
    "model_inputs = tokenizer([text], return_tensors=\"pt\").to(model.device)\n"
   ]
  },
  {
   "cell_type": "code",
   "execution_count": 81,
   "id": "403d2c58",
   "metadata": {},
   "outputs": [],
   "source": [
    "generated_ids = model.generate(\n",
    "    **model_inputs,\n",
    "    max_new_tokens=512\n",
    ")"
   ]
  },
  {
   "cell_type": "code",
   "execution_count": 82,
   "id": "106bb3ad",
   "metadata": {},
   "outputs": [],
   "source": [
    "generated_ids = [\n",
    "    output_ids[len(input_ids):] for input_ids, output_ids in zip(model_inputs.input_ids, generated_ids)\n",
    "]\n",
    "\n",
    "response = tokenizer.batch_decode(generated_ids, skip_special_tokens=True)[0]\n"
   ]
  },
  {
   "cell_type": "markdown",
   "id": "b105f8dc",
   "metadata": {},
   "source": [
    "# The codeLLM wants to use python and provides the code"
   ]
  },
  {
   "cell_type": "code",
   "execution_count": 83,
   "id": "cb31fbeb",
   "metadata": {
    "scrolled": true
   },
   "outputs": [
    {
     "name": "stdout",
     "output_type": "stream",
     "text": [
      "Question: How many 1s are in 1111111111111111111111111?\n",
      "Thought: To count the number of 1s in the given number, I can convert it to a string and then count the occurrences of the digit '1'.\n",
      "Action: Python Interpreter\n",
      "Action Input:\n",
      "```python\n",
      "number = \"1111111111111111111111111\"\n",
      "count_of_ones = number.count('1')\n",
      "print(count_of_ones)\n",
      "```\n"
     ]
    }
   ],
   "source": [
    "print(response)"
   ]
  },
  {
   "cell_type": "code",
   "execution_count": null,
   "id": "140ce144",
   "metadata": {},
   "outputs": [],
   "source": []
  },
  {
   "cell_type": "markdown",
   "id": "cc2d1386",
   "metadata": {},
   "source": [
    "# The result of the code is '25\\n' - we pass this back to the LLM"
   ]
  },
  {
   "cell_type": "code",
   "execution_count": 85,
   "id": "9aaa13f8",
   "metadata": {},
   "outputs": [],
   "source": [
    "import typing\n",
    "import re\n",
    "\n",
    "def _parse_response(response: str) -> typing.Tuple[str, str]:\n",
    "    if \"Final Answer:\" in response:\n",
    "        return \"Final Answer:\", response.split(\"Final Answer:\")[-1].strip()\n",
    "    match = re.search(\n",
    "        r\"Action: [\\[]?(.*?)[\\]]?[\\n]*Action Input:[\\s]*(.*)\",\n",
    "        response,\n",
    "        re.DOTALL,\n",
    "    )\n",
    "    if not match:\n",
    "        raise ValueError(f\"Can't interpret LLM's response: {response}\")\n",
    "    action = match.group(1).strip()\n",
    "    action_value = match.group(2)\n",
    "    return action, action_value.strip(\" \").strip('\"').replace(\"`\", \"\")"
   ]
  },
  {
   "cell_type": "code",
   "execution_count": 86,
   "id": "0f434c6e",
   "metadata": {},
   "outputs": [],
   "source": [
    "action, action_value = _parse_response(response)\n",
    "action_value = action_value.replace(\"python\\n\", \"\")"
   ]
  },
  {
   "cell_type": "code",
   "execution_count": 87,
   "id": "6dca078a",
   "metadata": {},
   "outputs": [],
   "source": [
    "result = tools[action](action_value)"
   ]
  },
  {
   "cell_type": "code",
   "execution_count": 88,
   "id": "1f24433e",
   "metadata": {
    "scrolled": true
   },
   "outputs": [
    {
     "data": {
      "text/plain": [
       "'25\\n'"
      ]
     },
     "execution_count": 88,
     "metadata": {},
     "output_type": "execute_result"
    }
   ],
   "source": [
    "result"
   ]
  },
  {
   "cell_type": "code",
   "execution_count": 90,
   "id": "4ab8f1e6",
   "metadata": {
    "scrolled": true
   },
   "outputs": [
    {
     "name": "stdout",
     "output_type": "stream",
     "text": [
      "Question: How many 1s are in 1111111111111111111111111?\n",
      "Thought: To count the number of 1s in the given number, I can convert it to a string and then count the occurrences of the digit '1'.\n",
      "Action: Python Interpreter\n",
      "Action Input:\n",
      "```python\n",
      "number = \"1111111111111111111111111\"\n",
      "count_of_ones = number.count('1')\n",
      "print(count_of_ones)\n",
      "```\n",
      "Observation: 25\n",
      "\n",
      "Thought:\n"
     ]
    }
   ],
   "source": [
    "response += f\"\\nObservation: {result}\\nThought:\"\n",
    "print(response)\n",
    "\n",
    "this_prompt = system_prompt.format(\n",
    "    previous_responses=response\n",
    ")"
   ]
  },
  {
   "cell_type": "markdown",
   "id": "6fb9fbf1",
   "metadata": {},
   "source": [
    "# It provides the final answer - 25"
   ]
  },
  {
   "cell_type": "code",
   "execution_count": 92,
   "id": "0e37ad77",
   "metadata": {},
   "outputs": [
    {
     "name": "stdout",
     "output_type": "stream",
     "text": [
      "system\n",
      "You are Qwen, created by Alibaba Cloud. You are a helpful assistant.\n",
      "user\n",
      "\n",
      "Today is 2025-04-16 and you can use tools to get new information.\n",
      "Answer the question as best as you can using the following tools:\n",
      "\n",
      "DDG Search: Get information for a search query. Input should be either a question like 'Who was Tolstoy?', or a single word like 'Tolstoy'. Result will be the answers to the question. There can be multiple results. \n",
      "Linux Shell: A Linux Shell. Use this to execute Linux commands. Input should be valid Linux commands. Chain several commands together with semicolon. Missing packages can be installed with `apk add ...` \n",
      "Python Interpreter: A Python interpreter. Use this to execute python code. Input should be valid python code. If you want to see the output of a value, you should print it out with `print(...)`\n",
      "Wikipedia: Get information from an encyclopedia to answer a search query. Input should be a search query such as 'Who was Marie Curie?'. Result will be a detailed answer to the question. There can be multiple results. \n",
      "\n",
      "\n",
      "Use the following format:\n",
      "\n",
      "Question: the input question you must answer\n",
      "Thought: comment on what you want to do next\n",
      "Action: the action to take, exactly one element of [DuckDuckGo Search, Linux Shell, Python Interpreter, Wikipedia]\n",
      "Action Input: the input to the action  (Never predict the action output.)\n",
      " \n",
      "Begin!\n",
      "\n",
      "Question: How many 1s are in 1111111111111111111111111?\n",
      "Thought: Question: How many 1s are in 1111111111111111111111111?\n",
      "Thought: To count the number of 1s in the given number, I can convert it to a string and then count the occurrences of the digit '1'.\n",
      "Action: Python Interpreter\n",
      "Action Input:\n",
      "```python\n",
      "number = \"1111111111111111111111111\"\n",
      "count_of_ones = number.count('1')\n",
      "print(count_of_ones)\n",
      "```\n",
      "Observation: 25\n",
      "\n",
      "Thought:\n",
      "assistant\n",
      "The number of 1s in 1111111111111111111111111 is **25**.\n",
      "\n",
      "Final Answer: The number of 1s in 1111111111111111111111111 is 25.\n"
     ]
    }
   ],
   "source": [
    "messages = [\n",
    "    {\"role\": \"system\", \"content\": \"You are Qwen, created by Alibaba Cloud. You are a helpful assistant.\"},\n",
    "    {\"role\": \"user\", \"content\": this_prompt}\n",
    "]\n",
    "\n",
    "text = tokenizer.apply_chat_template(\n",
    "    messages,\n",
    "    tokenize=False,\n",
    "    add_generation_prompt=True\n",
    ")\n",
    "model_inputs = tokenizer([text], return_tensors=\"pt\").to(model.device)\n",
    "generated_ids = model.generate(\n",
    "    **model_inputs,\n",
    "    max_new_tokens=512\n",
    ")\n",
    "\n",
    "# generated_ids = [\n",
    "#     output_ids[len(input_ids):] for input_ids, output_ids in zip(model_inputs.input_ids, generated_ids)\n",
    "# ]\n",
    "\n",
    "response = tokenizer.batch_decode(generated_ids, skip_special_tokens=True)[0]\n",
    "print(response)"
   ]
  },
  {
   "cell_type": "code",
   "execution_count": null,
   "id": "ba1a5afc",
   "metadata": {},
   "outputs": [],
   "source": []
  },
  {
   "cell_type": "code",
   "execution_count": null,
   "id": "d8b75a61",
   "metadata": {},
   "outputs": [],
   "source": []
  },
  {
   "cell_type": "markdown",
   "id": "fffda602",
   "metadata": {},
   "source": [
    "# Other tools already implemented"
   ]
  },
  {
   "cell_type": "code",
   "execution_count": 98,
   "id": "90a3c030",
   "metadata": {},
   "outputs": [
    {
     "name": "stdout",
     "output_type": "stream",
     "text": [
      "title: News\n",
      "summary: News is information about current events. This may be provided through many different media: word of mouth, printing, postal systems, broadcasting, electronic communication, or through the testimony o\n",
      "source: https://en.wikipedia.org/wiki/News\n"
     ]
    }
   ],
   "source": [
    "print(tools['Wikipedia']('News'))"
   ]
  },
  {
   "cell_type": "code",
   "execution_count": 97,
   "id": "a2c8644e",
   "metadata": {},
   "outputs": [
    {
     "name": "stdout",
     "output_type": "stream",
     "text": [
      "title: News: U.S. and World News Headlines : NPR\n",
      "answer: NPR news, audio, and podcasts. Coverage of breaking stories, national and world news, politics, business, science, technology, and extended coverage of major national and world events.\n",
      "title: The New York Times - Breaking News, US News, World News and Videos\n",
      "answer: Live news, investigations, opinion, photos and video by the journalists of The New York Times from more than 150 countries around the world. Subscribe for coverage of U.S. and international news ...\n",
      "title: Shooting at Davis community park leaves 3 injured | abc10.com\n",
      "answer: The UC Davis community is saddened by the news that individuals enjoying a day at Community Park in Davis were injured in a shooting Saturday afternoon. That the incident occurred as thousands of ...\n"
     ]
    }
   ],
   "source": [
    "print(tools['DuckDuckGo Search']('News'))"
   ]
  },
  {
   "cell_type": "code",
   "execution_count": 96,
   "id": "ea81016a",
   "metadata": {
    "scrolled": false
   },
   "outputs": [
    {
     "name": "stdout",
     "output_type": "stream",
     "text": [
      "total 8\n",
      "drwxr-xr-x    2 root     root          4096 Apr 16 21:55 .\n",
      "drwxr-xr-x    1 root     root          4096 Apr 16 21:55 ..\n",
      "\n"
     ]
    }
   ],
   "source": [
    "print(tools['Linux Shell']('ls -al'))"
   ]
  },
  {
   "cell_type": "code",
   "execution_count": null,
   "id": "e35e3799",
   "metadata": {},
   "outputs": [],
   "source": []
  },
  {
   "cell_type": "code",
   "execution_count": null,
   "id": "37b17f89",
   "metadata": {},
   "outputs": [],
   "source": []
  },
  {
   "cell_type": "code",
   "execution_count": null,
   "id": "a9c41bdc",
   "metadata": {},
   "outputs": [],
   "source": []
  },
  {
   "cell_type": "code",
   "execution_count": null,
   "id": "82a831d0",
   "metadata": {},
   "outputs": [],
   "source": []
  },
  {
   "cell_type": "code",
   "execution_count": null,
   "id": "9feff712",
   "metadata": {},
   "outputs": [],
   "source": [
    "# prompt = \"\"\"\n",
    "# Today is {today} and you can use tools to get new information.\n",
    "# Answer the question as best as you can using the following tools:\n",
    "\n",
    "# {tool_description}\n",
    "\n",
    "\n",
    "# Use the following format:\n",
    "\n",
    "# Question: the input question you must answer\n",
    "# Thought: comment on what you want to do next\n",
    "# Action: the action to take, exactly one element of [{tool_names}]\n",
    "# Action Input: the input to the action\n",
    "# Observation: the result of the action\n",
    "# ... (this Thought/Action/Action Input/Observation repeats N times,\n",
    "#  use it until you are sure of the answer)\n",
    "# Thought: I now know the final answer\n",
    "# Final Answer: your final answer to the original input question\n",
    "\n",
    "# Begin!\n",
    "\n",
    "# Question: {question}\n",
    "# Thought: {previous_responses}\"\"\"\n",
    "# def run_python_code(code_to_run):\n",
    "#     output = !python -c \"{code_to_run}\"\n",
    "#     return output\n",
    "    "
   ]
  }
 ],
 "metadata": {
  "kernelspec": {
   "display_name": "codellm",
   "language": "python",
   "name": "codellm"
  },
  "language_info": {
   "codemirror_mode": {
    "name": "ipython",
    "version": 3
   },
   "file_extension": ".py",
   "mimetype": "text/x-python",
   "name": "python",
   "nbconvert_exporter": "python",
   "pygments_lexer": "ipython3",
   "version": "3.10.0"
  }
 },
 "nbformat": 4,
 "nbformat_minor": 5
}
